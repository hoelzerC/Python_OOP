{
 "cells": [
  {
   "attachments": {},
   "cell_type": "markdown",
   "id": "f49eeebc",
   "metadata": {},
   "source": [
    "# How To\n",
    "Hi there and welcome in the tutorial session. Below you will find some exercises on object-oriented programming. The exercises are generally split into an ```INPUT```, ```YOUR CODE``` and ```TESTS``` part. Please do not change the input or tests. The rest is entirely up to you. :) \n",
    "\n",
    "There are no further packages required, apart from the ones I included in the cell below. If you feel you need more packages just add them - and do write to me how you ultimately solved the task. \n",
    "\n",
    "\n",
    "Happy coding!"
   ]
  },
  {
   "cell_type": "code",
   "execution_count": 1,
   "id": "c83480f3",
   "metadata": {},
   "outputs": [],
   "source": [
    "from abc import ABC, abstractmethod"
   ]
  },
  {
   "attachments": {},
   "cell_type": "markdown",
   "id": "8084473c",
   "metadata": {},
   "source": [
    "# 1. Basics\n",
    "\n",
    "Some basic exercises regarding object-oriented programming in python."
   ]
  },
  {
   "attachments": {},
   "cell_type": "markdown",
   "id": "e4122497",
   "metadata": {},
   "source": [
    "## Exercise 1.1 - Representing objects\n",
    "\n",
    "As first warm up, let us pretty print a class and investigate the differences of simple and more detailed print out.\n",
    "> Remember as a rule of thumb: ```__repr__``` is for developers, ```__str__``` is for customers.\n"
   ]
  },
  {
   "cell_type": "code",
   "execution_count": null,
   "id": "c512a084",
   "metadata": {},
   "outputs": [],
   "source": [
    "# YOUR CODE goes here\n",
    "class Cat:\n",
    "    def __init__(self, name, age):\n",
    "        self.name = name\n",
    "        self.age = age\n",
    "\n",
    "    def __str__(self) -> str:\n",
    "        # should be readable\n",
    "        pass\n",
    "    \n",
    "    def __repr__(self) -> str:\n",
    "        # should be unambiguous\n",
    "        pass "
   ]
  },
  {
   "cell_type": "code",
   "execution_count": null,
   "id": "bbbf8431",
   "metadata": {},
   "outputs": [],
   "source": [
    "# TESTS\n",
    "c = Cat(\"Alice\", 10)\n",
    "assert str(c) == \"A cat with name Alice\"\n",
    "assert repr(c) == f\"Cat('Alice', 10) at {id(c)}\"\n",
    "\n",
    "print(\"Congratulations, you have mastered the first exercise. Now go on :)\")"
   ]
  },
  {
   "attachments": {},
   "cell_type": "markdown",
   "id": "c39d9a04",
   "metadata": {},
   "source": [
    "## Exercise 1.2 - Object comparison\n",
    "\n",
    "In a (very capitalistic) parallel world, a person is worth only its' net worth. Compare the following people."
   ]
  },
  {
   "cell_type": "code",
   "execution_count": null,
   "id": "bddcc0b6",
   "metadata": {},
   "outputs": [],
   "source": [
    "# YOUR CODE goes here\n",
    "class Person:\n",
    "    def __init__(self, name: str, networth: float):\n",
    "        self.name = name\n",
    "        self.networth = networth"
   ]
  },
  {
   "cell_type": "code",
   "execution_count": null,
   "id": "b9667043",
   "metadata": {},
   "outputs": [],
   "source": [
    "# INPUT\n",
    "bg = Person(\"Bill Gates\", 5e10)\n",
    "mg = Person(\"Melinda Gates\", 5e10)\n",
    "ps = Person(\"Phd Student\", 5e1)"
   ]
  },
  {
   "cell_type": "code",
   "execution_count": null,
   "id": "0c3b6914",
   "metadata": {},
   "outputs": [],
   "source": [
    "# TESTS\n",
    "assert bg > ps\n",
    "assert bg == mg\n",
    "assert not bg.equal_id(mg)"
   ]
  },
  {
   "attachments": {},
   "cell_type": "markdown",
   "id": "2e817aa4",
   "metadata": {},
   "source": [
    "## Exercise 1.3 - Handling attributes\n",
    "\n",
    "What did we learn about getting and setting attributes of objects again? Note that it is always a good idea to comment your variables and specify the SI units."
   ]
  },
  {
   "cell_type": "code",
   "execution_count": null,
   "id": "99b2aa45",
   "metadata": {},
   "outputs": [],
   "source": [
    "# INPUT\n",
    "dalton2kg = 1.6605300000013e-27\n",
    "\"\"\"Conversion factor from Dalton to kg.\"\"\"\n",
    "m_h = 1.0079\n",
    "\"\"\"Mass for hydrogen in Dalton.\"\"\"\n",
    "m_c = 12.0107\n",
    "\"\"\"Mass for carbon in Dalton.\"\"\""
   ]
  },
  {
   "cell_type": "code",
   "execution_count": null,
   "id": "a2f56a91",
   "metadata": {},
   "outputs": [],
   "source": [
    "# YOUR CODE goes here\n",
    "class Atom():\n",
    "    _mass: float \n",
    "    \"\"\"Atomic mass in Dalton.\"\"\"\n",
    "    _number: int\n",
    "    \"\"\"Atomic number of atom.\"\"\"\n",
    "\n",
    "    def __init__(self, mass, number):\n",
    "        # NOTE: getter and setter work in here too!\n",
    "        pass"
   ]
  },
  {
   "cell_type": "code",
   "execution_count": null,
   "id": "269154f5",
   "metadata": {},
   "outputs": [],
   "source": [
    "# TESTS\n",
    "h = Atom(m_h, 1)\n",
    "c = Atom(m_c, 6)\n",
    "\n",
    "def tolerance(a: float, b: float) -> bool:\n",
    "    rel_tol = 0.1\n",
    "    abs_tol = 1e-14\n",
    "    return abs(a - b) <= max( rel_tol * max(abs(a), abs(b)), abs_tol )\n",
    "\n",
    "assert tolerance(h.mass, 1.673648187e-27)\n",
    "assert tolerance(c.mass, 1.994412767e-26)\n",
    "\n",
    "c.mass = 5\n",
    "assert tolerance(c.mass, 5.0)\n",
    "assert tolerance(c._mass, 3.01108682e+27)\n",
    "\n",
    "print(\"Awesome, you managed the unit chaos. Even NASA did not always get that right.\")\n",
    "# see: https://www.simscale.com/blog/nasa-mars-climate-orbiter-metric/"
   ]
  },
  {
   "attachments": {},
   "cell_type": "markdown",
   "id": "ef2429ae",
   "metadata": {},
   "source": [
    "## Exercise 1.4 - Object factory\n",
    "\n",
    "Let's get started and mass produce objects. For this we need a factory method that facilitates the creation of class instances. \n",
    "\n",
    "By convention, a factory is an object that creates other objects."
   ]
  },
  {
   "cell_type": "code",
   "execution_count": null,
   "id": "1e6984d2",
   "metadata": {},
   "outputs": [],
   "source": [
    "# INPUT\n",
    "dalton2kg = 1.6605300000013e-27\n",
    "\"\"\"Conversion factor from Dalton to kg.\"\"\"\n",
    "m_h = 1.0079\n",
    "\"\"\"Mass for hydrogen in Dalton.\"\"\"\n",
    "m_c = 12.0107\n",
    "\"\"\"Mass for carbon in Dalton.\"\"\""
   ]
  },
  {
   "cell_type": "code",
   "execution_count": null,
   "id": "2d3548dd",
   "metadata": {},
   "outputs": [],
   "source": [
    "# YOUR CODE goes here\n",
    "class Atom():\n",
    "    # NOTE: use Atom the class from exercise 1.3 \n",
    "    pass\n",
    "\n",
    "class Compound():\n",
    "    atoms: list[Atom]\n",
    "\n",
    "    def __init__(self, sequence: str) -> None:\n",
    "        \"\"\"Construct compound from sequence of chemical symbols.\"\"\"\n",
    "        # self.atoms = ... Atom_Factory.create_atom() ...\n",
    "        pass\n",
    "\n",
    "class Factory(ABC):\n",
    "    @abstractmethod\n",
    "    def create_atom(name: str) -> Atom:\n",
    "        \"\"\"Create an Atom object based on the chemical symbol.\"\"\"\n",
    "        pass\n",
    "\n",
    "class Atom_Factory(Factory):\n",
    "    pass      \n"
   ]
  },
  {
   "cell_type": "code",
   "execution_count": null,
   "id": "45c353c2",
   "metadata": {},
   "outputs": [],
   "source": [
    "# TESTS\n",
    "methane = Compound(\"CHHHH\")\n",
    "\n",
    "assert isinstance(methane.atoms, list)\n",
    "assert len(methane.atoms) == 5\n",
    "\n",
    "def tolerance(a: float, b: float) -> bool:\n",
    "    rel_tol = 0.1\n",
    "    abs_tol = 1e-14\n",
    "    return abs(a - b) <= max( rel_tol * max(abs(a), abs(b)), abs_tol )\n",
    "\n",
    "assert tolerance(methane.atoms[0].mass, 1.994412767e-26)\n",
    "assert tolerance(methane.atoms[1].mass, 1.673648187e-27)\n",
    "assert tolerance(methane.atoms[2].mass, 1.673648187e-27)\n",
    "assert tolerance(methane.atoms[3].mass, 1.673648187e-27)\n",
    "assert tolerance(methane.atoms[4].mass, 1.673648187e-27)\n",
    "\n",
    "# avoid unittest package\n",
    "flag = False\n",
    "try:\n",
    "    methane = Compound(\"FeO\")\n",
    "except NotImplementedError:\n",
    "    flag = True\n",
    "    print(\"Ok, we can only do H and C\")\n",
    "assert flag"
   ]
  },
  {
   "attachments": {},
   "cell_type": "markdown",
   "id": "29ecdf9c",
   "metadata": {},
   "source": [
    "# 2. Class-based projects\n",
    "Design your own classes in (small) real world scenarios."
   ]
  },
  {
   "attachments": {},
   "cell_type": "markdown",
   "id": "f5807dbb",
   "metadata": {},
   "source": [
    "## Exercise 2.1 - Molecule Dataclass\n",
    "\n",
    "Define a Molecule class that represents molecular data with the following attributes:\n",
    "\n",
    "* name (str): a string representing the name of the molecule\n",
    "\n",
    "* atoms (list): a list of tuples, each tuple representing an atom with its symbol and atomic number\n",
    "\n",
    "and the following methods:\n",
    "\n",
    "* init method that initializes the name and atoms attributes of the Molecule object\n",
    "\n",
    "* str method that returns a string representation of the Molecule object in the following format: \"Molecule(name=<name>, atoms=[(symbol1, atomic number1), (...)]\"\n",
    "\n",
    "* add_atom() method that adds a new atom to the atoms list of the Molecule object. The method should take two arguments: the symbol and atomic number of the new atom\n",
    "\n",
    "* remove_atom method that removes all occurrences of element from the atoms list of the Molecule object. The method should take one argument: the symbol of the element to be removed\n",
    "\n",
    "* get_molecular_weight() method that calculates and returns the molecular weight of the Molecule object. The molecular weight is calculated as the sum of the atomic weights of the atoms in the molecule. You can use the periodic table provided below to find the atomic weights of the atoms.\n"
   ]
  },
  {
   "cell_type": "code",
   "execution_count": null,
   "id": "607b2683",
   "metadata": {},
   "outputs": [],
   "source": [
    "# INPUT\n",
    "atomic_weights = {\n",
    "            \"H\": 1.0079,\n",
    "            \"C\": 12.0107,\n",
    "            \"N\": 14.0067,\n",
    "            \"O\": 15.9994,\n",
    "            \"F\": 18.9984,\n",
    "            \"Na\": 22.9897,\n",
    "            \"Cl\": 35.4527,\n",
    "        }"
   ]
  },
  {
   "cell_type": "code",
   "execution_count": null,
   "id": "b9674c00",
   "metadata": {},
   "outputs": [],
   "source": [
    "# YOUR CODE goes here\n",
    "class Molecule:\n",
    "    \"\"\"Molecule class\"\"\"\n",
    "\n",
    "    def add_atom(self, symbol, atomic_number) -> None:\n",
    "        pass\n",
    "\n",
    "    def remove_atom(self, symbol) -> None:\n",
    "        pass\n",
    "\n",
    "    def get_molecular_weight(self) -> float:\n",
    "        pass"
   ]
  },
  {
   "cell_type": "code",
   "execution_count": null,
   "id": "c431f803",
   "metadata": {},
   "outputs": [
    {
     "name": "stdout",
     "output_type": "stream",
     "text": [
      "Congratulations, all tests passed!\n"
     ]
    }
   ],
   "source": [
    "# TESTS\n",
    "water = Molecule(\"Water\", [(\"H\", 1), (\"O\", 8)])\n",
    "assert str(water) == \"Molecule(name=Water, atoms=[('H', 1), ('O', 8)])\"\n",
    "\n",
    "water.add_atom(\"H\", 1)\n",
    "assert str(water) == \"Molecule(name=Water, atoms=[('H', 1), ('O', 8), ('H', 1)])\"\n",
    "assert water.get_molecular_weight() == 18.0152\n",
    "\n",
    "water.remove_atom(\"H\")\n",
    "assert str(water) == \"Molecule(name=Water, atoms=[('O', 8)])\"\n",
    "assert water.get_molecular_weight() == 15.9994\n",
    "\n",
    "\n",
    "print(\"Congratulations, all tests passed!\")"
   ]
  },
  {
   "attachments": {},
   "cell_type": "markdown",
   "id": "99624ab0",
   "metadata": {},
   "source": [
    "## Exercise 2.2 - LinkedList\n",
    "\n",
    "Define a linked list using objects for nodes and a single object holding the list."
   ]
  },
  {
   "cell_type": "code",
   "execution_count": null,
   "id": "e79f7bbc",
   "metadata": {},
   "outputs": [],
   "source": [
    "# INPUT\n",
    "linkedlist_input = [1, 3, 4, 7, 24, 33, 56, 87, 99, 129]"
   ]
  },
  {
   "cell_type": "code",
   "execution_count": null,
   "id": "3f31eba1",
   "metadata": {},
   "outputs": [],
   "source": [
    "# YOUR CODE goes here\n",
    "class Node:\n",
    "    \"\"\"Node in linked list.\"\"\"\n",
    "    \n",
    "    def __init__(self, x):\n",
    "        pass\n",
    "\n",
    "    def __str__(self):\n",
    "        pass\n",
    "        \n",
    "    @staticmethod\n",
    "    def list_to_nodes(input: list[int]) -> \"Node\":\n",
    "        pass"
   ]
  },
  {
   "cell_type": "code",
   "execution_count": null,
   "id": "f980e014",
   "metadata": {},
   "outputs": [],
   "source": [
    "# TESTS\n",
    "assert str(Node.list_to_nodes(linkedlist_input)) == \"1->3->4->7->24->33->56->87->99->129\"\n",
    "assert str(Node.list_to_nodes([1])) == \"Empty linked list\"\n",
    "print(\"Congratulations, all tests passed!\")"
   ]
  },
  {
   "attachments": {},
   "cell_type": "markdown",
   "id": "9e0e0498",
   "metadata": {},
   "source": [
    "# 3. Advanced Exercises\n",
    "\n",
    "More complicated questions regarding object-oriented programming in python. As is often the case, the difficulty does not arise from the coding, but from the conceptual challenge."
   ]
  },
  {
   "attachments": {},
   "cell_type": "markdown",
   "id": "c816273e",
   "metadata": {},
   "source": [
    "## Exercise 3.1 - Super-Superclass\n",
    "Construct a cascading call from grandparent class down to child class. Do not add any further methods."
   ]
  },
  {
   "cell_type": "code",
   "execution_count": 227,
   "id": "2a760ec1",
   "metadata": {},
   "outputs": [],
   "source": [
    "# YOUR CODE goes here\n",
    "class A(object):\n",
    "    def __call__(self):\n",
    "        return \"A\"\n",
    "\n",
    "class B(A):\n",
    "    def __call__(self):\n",
    "        pass\n",
    "        \n",
    "class C(B):\n",
    "    def __call__(self):\n",
    "        pass"
   ]
  },
  {
   "cell_type": "code",
   "execution_count": null,
   "id": "5f34c311",
   "metadata": {},
   "outputs": [],
   "source": [
    "# TEST\n",
    "c = C()\n",
    "assert c() == \"ABC\""
   ]
  },
  {
   "attachments": {},
   "cell_type": "markdown",
   "id": "9a5feee9",
   "metadata": {},
   "source": [
    "## Exercise 3.2 - Method Resolution Order\n",
    "Given a diamond shape inheritance scheme, construct the correct classes. Do not remove anything from the given code. Only a single line needs editing to modify the MRO."
   ]
  },
  {
   "cell_type": "code",
   "execution_count": 187,
   "id": "e30bd108",
   "metadata": {},
   "outputs": [],
   "source": [
    "# YOUR CODE goes here\n",
    "class A:\n",
    "    a = 0\n",
    "\n",
    "class B(A):\n",
    "    pass   \n",
    "    \n",
    "class C(A):\n",
    "    a = 2\n",
    "\n",
    "class D(B, C):\n",
    "    pass"
   ]
  },
  {
   "cell_type": "code",
   "execution_count": null,
   "id": "821eb7f8",
   "metadata": {},
   "outputs": [],
   "source": [
    "# TEST\n",
    "d = D()\n",
    "assert super(B, d).a == 0"
   ]
  }
 ],
 "metadata": {
  "kernelspec": {
   "display_name": "gfnffml",
   "language": "python",
   "name": "python3"
  },
  "language_info": {
   "codemirror_mode": {
    "name": "ipython",
    "version": 3
   },
   "file_extension": ".py",
   "mimetype": "text/x-python",
   "name": "python",
   "nbconvert_exporter": "python",
   "pygments_lexer": "ipython3",
   "version": "3.10.6"
  },
  "vscode": {
   "interpreter": {
    "hash": "58f802b62bbe573fe9cd41f82c77845fc1cad38fb986b11dccf4114cbc19020e"
   }
  }
 },
 "nbformat": 4,
 "nbformat_minor": 5
}
